{
 "cells": [
  {
   "cell_type": "markdown",
   "metadata": {},
   "source": [
    "## 1. Loading Package"
   ]
  },
  {
   "cell_type": "code",
   "execution_count": 92,
   "metadata": {},
   "outputs": [
    {
     "name": "stdout",
     "output_type": "stream",
     "text": [
      "LOADING PACKAGE\n"
     ]
    }
   ],
   "source": [
    "import numpy as np\n",
    "print(\"LOADING PACKAGE\")"
   ]
  },
  {
   "cell_type": "code",
   "execution_count": 93,
   "metadata": {},
   "outputs": [
    {
     "data": {
      "text/plain": [
       "<module 'numpy' from 'c:\\\\Users\\\\somad\\\\anaconda3\\\\envs\\\\ml_textbook\\\\lib\\\\site-packages\\\\numpy\\\\__init__.py'>"
      ]
     },
     "execution_count": 93,
     "metadata": {},
     "output_type": "execute_result"
    }
   ],
   "source": [
    "np"
   ]
  },
  {
   "cell_type": "markdown",
   "metadata": {},
   "source": [
    "## 2. Print Function"
   ]
  },
  {
   "cell_type": "code",
   "execution_count": 94,
   "metadata": {},
   "outputs": [
    {
     "name": "stdout",
     "output_type": "stream",
     "text": [
      "Hello World\n",
      "Integer: 3, 03, 003, 0003, 00003\n",
      "Float : 123, 123.5, 123.46, 123.46, 123.46\n",
      "String: [Hello, world], [Hello, world], [        Hello, world]\n"
     ]
    }
   ],
   "source": [
    "# Print Function\n",
    "print(\"Hello World\")\n",
    "\n",
    "# Print With Arguments\n",
    "# 1. Integer\n",
    "x = 3\n",
    "print(\"Integer: %01d, %02d, %03d, %04d, %05d\" % (x, x, x, x, x))\n",
    "\n",
    "# 2. Float\n",
    "x = 123.456\n",
    "print(\"Float : %.0f, %.1f, %.2f, %1.2f, %2.2f\" %(x, x, x, x, x))\n",
    "\n",
    "# 3. String\n",
    "x = \"Hello, world\"\n",
    "print(\"String: [%s], [%3s], [%20s]\" %(x, x, x))"
   ]
  },
  {
   "cell_type": "markdown",
   "metadata": {},
   "source": [
    "## 3.For Loop"
   ]
  },
  {
   "cell_type": "code",
   "execution_count": 95,
   "metadata": {},
   "outputs": [
    {
     "name": "stdout",
     "output_type": "stream",
     "text": [
      "[%s] % alg\n",
      "[%s] % alg\n",
      "[%s] % alg\n",
      "[%s] % alg\n",
      "[%s] % alg\n",
      "[0/5][ANN]\n",
      "[1/5][MLP]\n",
      "[2/5][CNN]\n",
      "[3/5][RNN]\n",
      "[4/5][DAE]\n"
     ]
    }
   ],
   "source": [
    "#For Loop\n",
    "dlmethods = [\"ANN\", \"MLP\", \"CNN\", \"RNN\", \"DAE\"]\n",
    "for alg in dlmethods:\n",
    "    print(\"[%s] % alg\")\n",
    "\n",
    "# For Loop With Index\n",
    "# enumerate를 사용하여 index를 받아올 수도 있다.\n",
    "dlmethods = [\"ANN\", \"MLP\", \"CNN\", \"RNN\", \"DAE\"]\n",
    "for i, alg in enumerate(dlmethods):\n",
    "    print(\"[%d/%d][%s]\" % (i, len(dlmethods), alg))"
   ]
  },
  {
   "cell_type": "markdown",
   "metadata": {},
   "source": [
    "## 4. if / else"
   ]
  },
  {
   "cell_type": "code",
   "execution_count": 96,
   "metadata": {},
   "outputs": [
    {
     "name": "stdout",
     "output_type": "stream",
     "text": [
      "[%s] is a feed-forward network\n",
      "[%s] is a feed-forward network\n",
      "[%s] is a feed-forward network\n",
      "[RNN] is a recurrent network.\n",
      "[DAE] in an unsupervised mehod.\n"
     ]
    }
   ],
   "source": [
    "# if / else\n",
    "dlmethods = [\"ANN\", \"MLP\", \"CNN\", \"RNN\", \"DAE\"]\n",
    "\n",
    "for alg in dlmethods:\n",
    "    if alg in [\"ANN\", \"MLP\", \"CNN\"]:\n",
    "        print(\"[%s] is a feed-forward network\")        \n",
    "    elif alg in [\"RNN\"]:\n",
    "        print (\"[%s] is a recurrent network.\" % (alg))\n",
    "    else :\n",
    "        print(\"[%s] in an unsupervised mehod.\" %(alg))"
   ]
  },
  {
   "cell_type": "markdown",
   "metadata": {},
   "source": [
    "## 5. Function"
   ]
  },
  {
   "cell_type": "code",
   "execution_count": 97,
   "metadata": {},
   "outputs": [
    {
     "name": "stdout",
     "output_type": "stream",
     "text": [
      "FUNCTION DEFFINED\n",
      "[10] + [20] is [30]\n",
      "ab\n"
     ]
    }
   ],
   "source": [
    "def sum(a, b):\n",
    "    return a + b\n",
    "print(\"FUNCTION DEFFINED\")\n",
    "\n",
    "a = 10\n",
    "b = 20\n",
    "print(\"[%d] + [%d] is [%d]\" % (a, b, sum(a,b)))\n",
    "\n",
    "print(sum ('a', 'b'))"
   ]
  },
  {
   "cell_type": "markdown",
   "metadata": {},
   "source": [
    "## 6. String Opertaion"
   ]
  },
  {
   "cell_type": "code",
   "execution_count": 98,
   "metadata": {},
   "outputs": [
    {
     "name": "stdout",
     "output_type": "stream",
     "text": [
      "Deep Learning ISVery Exciting.\n",
      "Deep Learning ISVery Very Very Very Very Very Very Very Very Very Exciting.\n"
     ]
    }
   ],
   "source": [
    "# '+'연산: 문자열 합치기.\n",
    "head = \"Deep Learning\"\n",
    "body = \"Very \"\n",
    "tail = \"Exciting.\"\n",
    "print(head + \" IS\" + body + tail)\n",
    "\n",
    "# '*' 연산: 문자 반복하기\n",
    "head = \"Deep Learning\"\n",
    "body = \"Very \"\n",
    "tail = \"Exciting.\"\n",
    "print(head + \" IS\" + body*10 + tail)"
   ]
  },
  {
   "cell_type": "markdown",
   "metadata": {},
   "source": [
    "## 7. List"
   ]
  },
  {
   "cell_type": "code",
   "execution_count": 99,
   "metadata": {},
   "outputs": [
    {
     "name": "stdout",
     "output_type": "stream",
     "text": [
      "a: [[]], Type is [<class 'list'>]\n"
     ]
    }
   ],
   "source": [
    "a = []\n",
    "print(\"a: [%s], Type is [%s]\" % (a, type(a)))"
   ]
  },
  {
   "cell_type": "code",
   "execution_count": 100,
   "metadata": {},
   "outputs": [
    {
     "name": "stdout",
     "output_type": "stream",
     "text": [
      "[1, 2, 3]\n",
      "['x', 'y', 'z']\n",
      "[[1, 2, 3], ['x', 'y', 'z']]\n"
     ]
    }
   ],
   "source": [
    "# List안에는 어떤 type의 값이든 들어갈 수 있다.\n",
    "b = [1, 2, 3]\n",
    "c = ['x', 'y', 'z']\n",
    "d = [b, c]\n",
    "\n",
    "print(b)\n",
    "print(c)\n",
    "print(d)"
   ]
  },
  {
   "cell_type": "markdown",
   "metadata": {},
   "source": [
    "### 7.1 List Usage"
   ]
  },
  {
   "cell_type": "code",
   "execution_count": 101,
   "metadata": {},
   "outputs": [
    {
     "name": "stdout",
     "output_type": "stream",
     "text": [
      "a\n",
      "b\n",
      "c\n"
     ]
    }
   ],
   "source": [
    "a = ['a', 'b', 'c']\n",
    "for aval in a:\n",
    "    print(aval)"
   ]
  },
  {
   "cell_type": "code",
   "execution_count": 102,
   "metadata": {},
   "outputs": [
    {
     "name": "stdout",
     "output_type": "stream",
     "text": [
      "['a', 'b', 'c']\n"
     ]
    }
   ],
   "source": [
    "# 사용예시: 폴더안에 이미지가 있다면 거기서 하나씩 불러와서 리스트에 집어넣는다.\n",
    "b = []\n",
    "for aidx in range(len(a)):\n",
    "    b.append(a[aidx])\n",
    "print(b)"
   ]
  },
  {
   "cell_type": "markdown",
   "metadata": {},
   "source": [
    "## 8. Dictionary"
   ]
  },
  {
   "cell_type": "code",
   "execution_count": 103,
   "metadata": {},
   "outputs": [
    {
     "name": "stdout",
     "output_type": "stream",
     "text": [
      "{'name': 'Sungjoon', 'job': 'Student'}\n",
      "Sungjoon\n",
      "{'name': 'Sungjoon', 'job': 'Student'}\n",
      "{'name': 'Sungjoon', 'job': 'Student', 'age': 32}\n"
     ]
    }
   ],
   "source": [
    "# Dictionary는 key-value structure로 되어있다.\n",
    "\n",
    "# Dictionart initialize1\n",
    "a = dict()\n",
    "a['name'] = 'Sungjoon'\n",
    "a['job'] = 'Student'\n",
    "print(a)\n",
    "print(a['name'])\n",
    "\n",
    "# Dictionart initialize2\n",
    "b = {'name': 'Sungjoon', 'job': 'Student'}\n",
    "print(b)\n",
    "\n",
    "b ['age'] = 32\n",
    "print(b)"
   ]
  },
  {
   "cell_type": "markdown",
   "metadata": {},
   "source": [
    "### 8.1 Dictionary Usage"
   ]
  },
  {
   "cell_type": "code",
   "execution_count": 104,
   "metadata": {},
   "outputs": [
    {
     "name": "stdout",
     "output_type": "stream",
     "text": [
      "Name is [Sungjoon]\n",
      "Job is [Student]\n"
     ]
    }
   ],
   "source": [
    "# Key를 넣어줌으로써 그거에 해당하는 value를 받도록 함.\n",
    "print('Name is [%s]' % (b['name']))\n",
    "print('Job is [%s]' % (b['job']))"
   ]
  },
  {
   "cell_type": "markdown",
   "metadata": {},
   "source": [
    "## 9. Class"
   ]
  },
  {
   "cell_type": "code",
   "execution_count": 105,
   "metadata": {},
   "outputs": [
    {
     "name": "stdout",
     "output_type": "stream",
     "text": [
      "Class defiend.\n"
     ]
    }
   ],
   "source": [
    "class foo:\n",
    "    # Constructor\n",
    "    # 파이썬에선 자바와는 다르게 따로 멤버변수를 선언해줄 필요가 없다.\n",
    "    def __init__(self, name) -> None:\n",
    "        self.name = name;\n",
    "        self.job = 'unknown'\n",
    "        print(\"HELLO, [%s]\" % (self.name))\n",
    "    \n",
    "    def boo(self, loud = False):\n",
    "        if loud:\n",
    "            print('BOO [%s]' % (self.name.upper()))\n",
    "        else:\n",
    "            print('boo [%s]' % (self.name))\n",
    "\n",
    "print(\"Class defiend.\")"
   ]
  },
  {
   "cell_type": "markdown",
   "metadata": {},
   "source": [
    "### 9.1 Instantiace class"
   ]
  },
  {
   "cell_type": "code",
   "execution_count": 106,
   "metadata": {},
   "outputs": [
    {
     "name": "stdout",
     "output_type": "stream",
     "text": [
      "HELLO, [Junsu]\n"
     ]
    }
   ],
   "source": [
    "f = foo('Junsu')\n"
   ]
  },
  {
   "cell_type": "markdown",
   "metadata": {},
   "source": [
    "### 9.2 Class Usage"
   ]
  },
  {
   "cell_type": "code",
   "execution_count": 107,
   "metadata": {},
   "outputs": [
    {
     "name": "stdout",
     "output_type": "stream",
     "text": [
      "boo [Junsu]\n",
      "BOO [JUNSU]\n",
      "unknown\n"
     ]
    }
   ],
   "source": [
    "f.boo()\n",
    "f.boo(loud=True)\n",
    "print(f.job)\n"
   ]
  },
  {
   "cell_type": "markdown",
   "metadata": {},
   "source": [
    "## 10. Numpy"
   ]
  },
  {
   "cell_type": "code",
   "execution_count": 108,
   "metadata": {},
   "outputs": [],
   "source": [
    "def print_np(x):\n",
    "    print(\"(1) Type is %s\" % (type(x)))\n",
    "    print(\"(2) Shape is %s\" % (x.shape, ))\n",
    "    print(\"(3) Values are: \\n%s\" % (x))\n",
    "    print()"
   ]
  },
  {
   "cell_type": "markdown",
   "metadata": {},
   "source": [
    "### 10.1 Rank1 Array\n",
    "\n",
    "Rank 1 Array: 1개의 방향으로만 커질 수 있는 array다.(vector) <br/>\n",
    "Rank 2 Array: 2개의 방향으로 커질 수 있는 array다. (matrix) <br/>\n",
    "Rank 3 Array: tensor라고 부른다. RGB image가 4 x 4 x 3으로 있다면 이걸 tensor라고 부른다. <br/>\n"
   ]
  },
  {
   "cell_type": "code",
   "execution_count": 109,
   "metadata": {},
   "outputs": [
    {
     "name": "stdout",
     "output_type": "stream",
     "text": [
      "(1) Type is <class 'numpy.ndarray'>\n",
      "(2) Shape is (3,)\n",
      "(3) Values are: \n",
      "[1 2 3]\n",
      "\n"
     ]
    }
   ],
   "source": [
    "x = np.array([1, 2, 3])\n",
    "print_np(x)"
   ]
  },
  {
   "cell_type": "code",
   "execution_count": 110,
   "metadata": {},
   "outputs": [
    {
     "name": "stdout",
     "output_type": "stream",
     "text": [
      "(1) Type is <class 'numpy.ndarray'>\n",
      "(2) Shape is (3,)\n",
      "(3) Values are: \n",
      "[5 2 3]\n",
      "\n"
     ]
    }
   ],
   "source": [
    "x[0] = 5\n",
    "print_np(x)"
   ]
  },
  {
   "cell_type": "code",
   "execution_count": 111,
   "metadata": {},
   "outputs": [
    {
     "name": "stdout",
     "output_type": "stream",
     "text": [
      "(1) Type is <class 'numpy.ndarray'>\n",
      "(2) Shape is (2, 3)\n",
      "(3) Values are: \n",
      "[[1 2 3]\n",
      " [4 5 6]]\n",
      "\n"
     ]
    }
   ],
   "source": [
    "y = np.array([[1, 2, 3], [4, 5, 6]])\n",
    "print_np(y)"
   ]
  },
  {
   "cell_type": "markdown",
   "metadata": {},
   "source": [
    "### 10.2 Zeros"
   ]
  },
  {
   "cell_type": "code",
   "execution_count": 112,
   "metadata": {},
   "outputs": [
    {
     "name": "stdout",
     "output_type": "stream",
     "text": [
      "(1) Type is <class 'numpy.ndarray'>\n",
      "(2) Shape is (3, 2)\n",
      "(3) Values are: \n",
      "[[0. 0.]\n",
      " [0. 0.]\n",
      " [0. 0.]]\n",
      "\n"
     ]
    }
   ],
   "source": [
    "a = np.zeros((3, 2))\n",
    "print_np(a)"
   ]
  },
  {
   "cell_type": "markdown",
   "metadata": {},
   "source": [
    "### 10.3 Ones"
   ]
  },
  {
   "cell_type": "code",
   "execution_count": 113,
   "metadata": {},
   "outputs": [
    {
     "name": "stdout",
     "output_type": "stream",
     "text": [
      "(1) Type is <class 'numpy.ndarray'>\n",
      "(2) Shape is (1, 2)\n",
      "(3) Values are: \n",
      "[[1. 1.]]\n",
      "\n"
     ]
    }
   ],
   "source": [
    "b = np.ones((1, 2))\n",
    "print_np(b)"
   ]
  },
  {
   "cell_type": "markdown",
   "metadata": {},
   "source": [
    "### 10.4 Identity"
   ]
  },
  {
   "cell_type": "code",
   "execution_count": 114,
   "metadata": {},
   "outputs": [
    {
     "name": "stdout",
     "output_type": "stream",
     "text": [
      "[[1. 0. 0.]\n",
      " [0. 1. 0.]\n",
      " [0. 0. 1.]]\n"
     ]
    }
   ],
   "source": [
    "# 단위행렬\n",
    "c = np.eye(3, 3)\n",
    "print(c)"
   ]
  },
  {
   "cell_type": "markdown",
   "metadata": {},
   "source": [
    "### 10.5 Random Uniform"
   ]
  },
  {
   "cell_type": "code",
   "execution_count": 115,
   "metadata": {},
   "outputs": [
    {
     "name": "stdout",
     "output_type": "stream",
     "text": [
      "(1) Type is <class 'numpy.ndarray'>\n",
      "(2) Shape is (2, 2)\n",
      "(3) Values are: \n",
      "[[0.34423799 0.66055857]\n",
      " [0.17615096 0.19682565]]\n",
      "\n"
     ]
    }
   ],
   "source": [
    "# 0 ~ 1 사이의 랜덤 값으로 초기화\n",
    "d = np.random.random((2, 2))\n",
    "print_np(d)"
   ]
  },
  {
   "cell_type": "markdown",
   "metadata": {},
   "source": [
    "### 10.6 Random Gaussian"
   ]
  },
  {
   "cell_type": "code",
   "execution_count": 116,
   "metadata": {},
   "outputs": [
    {
     "name": "stdout",
     "output_type": "stream",
     "text": [
      "(1) Type is <class 'numpy.ndarray'>\n",
      "(2) Shape is (1, 5)\n",
      "(3) Values are: \n",
      "[[ 1.1752049   0.48252596 -0.00808386 -0.4857861   2.09805728]]\n",
      "\n"
     ]
    }
   ],
   "source": [
    "# Rank2 Array를 생성한다.\n",
    "# 0이 평균인 가우시안을 한다. (zero mean unit gaussian)\n",
    "e = np.random.randn(1, 5)\n",
    "print_np(e)"
   ]
  },
  {
   "cell_type": "markdown",
   "metadata": {},
   "source": [
    "### 10.7 Array indexing"
   ]
  },
  {
   "cell_type": "code",
   "execution_count": 117,
   "metadata": {},
   "outputs": [
    {
     "name": "stdout",
     "output_type": "stream",
     "text": [
      "(1) Type is <class 'numpy.ndarray'>\n",
      "(2) Shape is (3, 4)\n",
      "(3) Values are: \n",
      "[[ 1  2  3  4]\n",
      " [ 5  6  7  8]\n",
      " [ 9 10 11 12]]\n",
      "\n"
     ]
    }
   ],
   "source": [
    "a = np.array([[1, 2, 3, 4], [5, 6, 7, 8,], [9, 10, 11, 12]])\n",
    "print_np(a)"
   ]
  },
  {
   "cell_type": "code",
   "execution_count": 118,
   "metadata": {},
   "outputs": [
    {
     "name": "stdout",
     "output_type": "stream",
     "text": [
      "(1) Type is <class 'numpy.ndarray'>\n",
      "(2) Shape is (2, 2)\n",
      "(3) Values are: \n",
      "[[2 3]\n",
      " [6 7]]\n",
      "\n"
     ]
    }
   ],
   "source": [
    "b = a[:2, 1:3]\n",
    "print_np(b)"
   ]
  },
  {
   "cell_type": "markdown",
   "metadata": {},
   "source": [
    "### 10.8 Get Row"
   ]
  },
  {
   "cell_type": "code",
   "execution_count": 119,
   "metadata": {},
   "outputs": [
    {
     "name": "stdout",
     "output_type": "stream",
     "text": [
      "(1) Type is <class 'numpy.ndarray'>\n",
      "(2) Shape is (3, 4)\n",
      "(3) Values are: \n",
      "[[ 1  2  3  4]\n",
      " [ 5  6  7  8]\n",
      " [ 9 10 11 12]]\n",
      "\n"
     ]
    }
   ],
   "source": [
    "a = np.array([[1, 2, 3, 4], [5, 6, 7, 8,], [9, 10, 11, 12]])\n",
    "print_np(a)"
   ]
  },
  {
   "cell_type": "code",
   "execution_count": 120,
   "metadata": {},
   "outputs": [],
   "source": [
    "# 셋 다 2번째 row를 가져온 것인데 뭐가 다를까?\n",
    "row_r1 = a[1, :] # Rank 1 view of the second row fo a\n",
    "row_r2 = a[1:2, :] # Rank 2 view of the second row fo a\n",
    "row_r3 = a[[1], :] # Rank 2 view of the second row fo a"
   ]
  },
  {
   "cell_type": "code",
   "execution_count": 121,
   "metadata": {},
   "outputs": [
    {
     "name": "stdout",
     "output_type": "stream",
     "text": [
      "(1) Type is <class 'numpy.ndarray'>\n",
      "(2) Shape is (4,)\n",
      "(3) Values are: \n",
      "[5 6 7 8]\n",
      "\n",
      "(1) Type is <class 'numpy.ndarray'>\n",
      "(2) Shape is (1, 4)\n",
      "(3) Values are: \n",
      "[[5 6 7 8]]\n",
      "\n",
      "(1) Type is <class 'numpy.ndarray'>\n",
      "(2) Shape is (1, 4)\n",
      "(3) Values are: \n",
      "[[5 6 7 8]]\n",
      "\n"
     ]
    }
   ],
   "source": [
    "print_np(row_r1)\n",
    "print_np(row_r2)\n",
    "print_np(row_r3)"
   ]
  },
  {
   "cell_type": "markdown",
   "metadata": {},
   "source": [
    "### 10.9 Different types"
   ]
  },
  {
   "cell_type": "code",
   "execution_count": 122,
   "metadata": {},
   "outputs": [
    {
     "name": "stdout",
     "output_type": "stream",
     "text": [
      "(1) Type is <class 'numpy.ndarray'>\n",
      "(2) Shape is (2,)\n",
      "(3) Values are: \n",
      "[1 2]\n",
      "\n",
      "(1) Type is <class 'numpy.ndarray'>\n",
      "(2) Shape is (2,)\n",
      "(3) Values are: \n",
      "[1. 2.]\n",
      "\n",
      "(1) Type is <class 'numpy.ndarray'>\n",
      "(2) Shape is (2,)\n",
      "(3) Values are: \n",
      "[1. 2.]\n",
      "\n"
     ]
    }
   ],
   "source": [
    "x = np.array([1, 2])\n",
    "y = np.array([1.0, 2.0])\n",
    "z = np.array([1, 2], dtype=np.float32)\n",
    "\n",
    "print_np(x)\n",
    "print_np(y)\n",
    "print_np(z)"
   ]
  },
  {
   "cell_type": "markdown",
   "metadata": {},
   "source": [
    "### 10.10 Type Casting"
   ]
  },
  {
   "cell_type": "code",
   "execution_count": 123,
   "metadata": {},
   "outputs": [
    {
     "name": "stdout",
     "output_type": "stream",
     "text": [
      "(1) Type is <class 'numpy.ndarray'>\n",
      "(2) Shape is (2,)\n",
      "(3) Values are: \n",
      "[1 2]\n",
      "\n"
     ]
    }
   ],
   "source": [
    "y2 = y.astype(np.int64)\n",
    "print_np(y2)"
   ]
  },
  {
   "cell_type": "markdown",
   "metadata": {},
   "source": [
    "### 10.11 Array Math"
   ]
  },
  {
   "cell_type": "code",
   "execution_count": 124,
   "metadata": {},
   "outputs": [
    {
     "name": "stdout",
     "output_type": "stream",
     "text": [
      "(1) Type is <class 'numpy.ndarray'>\n",
      "(2) Shape is (2, 2)\n",
      "(3) Values are: \n",
      "[[1. 2.]\n",
      " [3. 4.]]\n",
      "\n",
      "(1) Type is <class 'numpy.ndarray'>\n",
      "(2) Shape is (2, 2)\n",
      "(3) Values are: \n",
      "[[5. 6.]\n",
      " [7. 8.]]\n",
      "\n"
     ]
    }
   ],
   "source": [
    "x = np.array([[1, 2], [3, 4]], dtype=np.float64)\n",
    "y = np.array([[5, 6], [7, 8]], dtype=np.float64)\n",
    "print_np(x)\n",
    "print_np(y)"
   ]
  },
  {
   "cell_type": "markdown",
   "metadata": {},
   "source": [
    "#### 10.11.1 ADD\n",
    "기본적으로 더하기, 뺴기 연산을 할 때는 element wise 연산을 한다. 해당하는 위치에 있는 값끼리 더하는 것"
   ]
  },
  {
   "cell_type": "code",
   "execution_count": 125,
   "metadata": {},
   "outputs": [
    {
     "name": "stdout",
     "output_type": "stream",
     "text": [
      "[[ 6.  8.]\n",
      " [10. 12.]]\n",
      "[[ 6.  8.]\n",
      " [10. 12.]]\n"
     ]
    }
   ],
   "source": [
    "print(x + y)\n",
    "print(np.add(x, y))"
   ]
  },
  {
   "cell_type": "markdown",
   "metadata": {},
   "source": [
    "#### 10.11.2 Subtract"
   ]
  },
  {
   "cell_type": "code",
   "execution_count": 126,
   "metadata": {},
   "outputs": [
    {
     "name": "stdout",
     "output_type": "stream",
     "text": [
      "[[-4. -4.]\n",
      " [-4. -4.]]\n",
      "[[-4. -4.]\n",
      " [-4. -4.]]\n"
     ]
    }
   ],
   "source": [
    "print(x - y)\n",
    "print(np.subtract(x, y))"
   ]
  },
  {
   "cell_type": "markdown",
   "metadata": {},
   "source": [
    "#### 10.11.3 Product"
   ]
  },
  {
   "cell_type": "code",
   "execution_count": 127,
   "metadata": {},
   "outputs": [
    {
     "name": "stdout",
     "output_type": "stream",
     "text": [
      "[[ 5. 12.]\n",
      " [21. 32.]]\n",
      "[[ 5. 12.]\n",
      " [21. 32.]]\n"
     ]
    }
   ],
   "source": [
    "print(x * y)\n",
    "print(np.multiply(x, y))"
   ]
  },
  {
   "cell_type": "markdown",
   "metadata": {},
   "source": [
    "#### 10.11.4 Division"
   ]
  },
  {
   "cell_type": "code",
   "execution_count": 128,
   "metadata": {},
   "outputs": [
    {
     "name": "stdout",
     "output_type": "stream",
     "text": [
      "[[0.2        0.33333333]\n",
      " [0.42857143 0.5       ]]\n",
      "[[0.2        0.33333333]\n",
      " [0.42857143 0.5       ]]\n"
     ]
    }
   ],
   "source": [
    "print(x/y)\n",
    "print(np.divide(x,y))"
   ]
  },
  {
   "cell_type": "markdown",
   "metadata": {},
   "source": [
    "### 10.12 Matrix Operation"
   ]
  },
  {
   "cell_type": "code",
   "execution_count": 129,
   "metadata": {},
   "outputs": [
    {
     "name": "stdout",
     "output_type": "stream",
     "text": [
      "[[1 2]\n",
      " [3 4]]\n",
      "[[5 6]\n",
      " [7 8]]\n",
      "[ 9 10]\n",
      "[11 12]\n"
     ]
    }
   ],
   "source": [
    "x = np.array([[1,2], [3,4]])\n",
    "y = np.array([[5,6], [7,8]])\n",
    "v = np.array([9, 10])\n",
    "w = np.array([11, 12])\n",
    "\n",
    "print(x)\n",
    "print(y)\n",
    "print(v)\n",
    "print(w)"
   ]
  },
  {
   "cell_type": "markdown",
   "metadata": {},
   "source": [
    "#### 10.12.1 Dot prodcut"
   ]
  },
  {
   "cell_type": "markdown",
   "metadata": {},
   "source": [
    "내적은 앞의 행렬을 냅두고 뒤의 행렬을 transpose해서 곱한다."
   ]
  },
  {
   "cell_type": "code",
   "execution_count": 130,
   "metadata": {},
   "outputs": [
    {
     "name": "stdout",
     "output_type": "stream",
     "text": [
      "219\n",
      "219\n"
     ]
    }
   ],
   "source": [
    "print(v.dot(w))\n",
    "print(np.dot(v, w))"
   ]
  },
  {
   "cell_type": "code",
   "execution_count": 131,
   "metadata": {},
   "outputs": [
    {
     "name": "stdout",
     "output_type": "stream",
     "text": [
      "[29 67]\n",
      "[29 67]\n"
     ]
    }
   ],
   "source": [
    "print(x.dot(v))\n",
    "print(np.dot(x, v))"
   ]
  },
  {
   "cell_type": "markdown",
   "metadata": {},
   "source": [
    "#### 10.12.2 Empty Like"
   ]
  },
  {
   "cell_type": "code",
   "execution_count": 132,
   "metadata": {},
   "outputs": [
    {
     "name": "stdout",
     "output_type": "stream",
     "text": [
      "(1) Type is <class 'numpy.ndarray'>\n",
      "(2) Shape is (2, 2)\n",
      "(3) Values are: \n",
      "[[1 2]\n",
      " [3 4]]\n",
      "\n",
      "(1) Type is <class 'numpy.ndarray'>\n",
      "(2) Shape is (2, 2)\n",
      "(3) Values are: \n",
      "[[         0 1072693248]\n",
      " [         0 1073741824]]\n",
      "\n"
     ]
    }
   ],
   "source": [
    "y = np.empty_like(x)\n",
    "print_np(x)\n",
    "print_np(y)"
   ]
  },
  {
   "cell_type": "markdown",
   "metadata": {},
   "source": [
    "### Python used 'call by reference'!\n",
    "Python은 기본적으로 Call by Reference이다. "
   ]
  },
  {
   "cell_type": "code",
   "execution_count": 133,
   "metadata": {},
   "outputs": [
    {
     "name": "stdout",
     "output_type": "stream",
     "text": [
      "[[0 1]\n",
      " [2 3]]\n",
      "[[0 1]\n",
      " [2 3]]\n",
      "[[100   1]\n",
      " [  2   3]]\n",
      "[[100   1]\n",
      " [  2   3]]\n"
     ]
    }
   ],
   "source": [
    "# initialize x\n",
    "x = np.array([[0,1], [2, 3]])\n",
    "print(x)\n",
    "\n",
    "# copy x to z\n",
    "z = x\n",
    "print(z)\n",
    "\n",
    "# Change value in z\n",
    "z[0, 0] = 100\n",
    "print(z)\n",
    "\n",
    "# Then, what happens to x?\n",
    "print(x)"
   ]
  },
  {
   "cell_type": "code",
   "execution_count": 136,
   "metadata": {},
   "outputs": [
    {
     "name": "stdout",
     "output_type": "stream",
     "text": [
      "[[0 1]\n",
      " [2 3]]\n",
      "[[0 1]\n",
      " [2 3]]\n",
      "[[100   1]\n",
      " [  2   3]]\n",
      "[[0 1]\n",
      " [2 3]]\n"
     ]
    }
   ],
   "source": [
    "# initialize x\n",
    "x = np.array([[0,1], [2, 3]])\n",
    "print(x)\n",
    "\n",
    "# copy x to z\n",
    "z = np.empty_like(x) # or np.copy(x)\n",
    "print(z)\n",
    "\n",
    "# Change value in z\n",
    "z[0, 0] = 100\n",
    "print(z)\n",
    "\n",
    "# Then, what happens to x?\n",
    "print(x)"
   ]
  },
  {
   "cell_type": "markdown",
   "metadata": {},
   "source": [
    "### 10.13 Tile\n",
    "행렬을 반복해서 넣는 것"
   ]
  },
  {
   "cell_type": "code",
   "execution_count": 137,
   "metadata": {},
   "outputs": [
    {
     "name": "stdout",
     "output_type": "stream",
     "text": [
      "(1) Type is <class 'numpy.ndarray'>\n",
      "(2) Shape is (5,)\n",
      "(3) Values are: \n",
      "[0 1 2 3 4]\n",
      "\n"
     ]
    }
   ],
   "source": [
    "v = np.array([0, 1, 2, 3, 4])\n",
    "print_np(v)"
   ]
  },
  {
   "cell_type": "code",
   "execution_count": 138,
   "metadata": {},
   "outputs": [
    {
     "name": "stdout",
     "output_type": "stream",
     "text": [
      "(1) Type is <class 'numpy.ndarray'>\n",
      "(2) Shape is (1, 15)\n",
      "(3) Values are: \n",
      "[[0 1 2 3 4 0 1 2 3 4 0 1 2 3 4]]\n",
      "\n"
     ]
    }
   ],
   "source": [
    "w = np.tile(v, (1, 3)) # [1, 3]의 모양으로 행렬을 반복해서 넣는다.\n",
    "print_np(w)"
   ]
  },
  {
   "cell_type": "code",
   "execution_count": 139,
   "metadata": {},
   "outputs": [
    {
     "name": "stdout",
     "output_type": "stream",
     "text": [
      "(1) Type is <class 'numpy.ndarray'>\n",
      "(2) Shape is (2, 5)\n",
      "(3) Values are: \n",
      "[[0 1 2 3 4]\n",
      " [0 1 2 3 4]]\n",
      "\n"
     ]
    }
   ],
   "source": [
    "w = np.tile(v, (2, 1))\n",
    "print_np(w)"
   ]
  },
  {
   "cell_type": "markdown",
   "metadata": {},
   "source": [
    "## 11. Matplotlib"
   ]
  },
  {
   "cell_type": "code",
   "execution_count": 141,
   "metadata": {},
   "outputs": [
    {
     "name": "stdout",
     "output_type": "stream",
     "text": [
      "Plot Ready\n"
     ]
    }
   ],
   "source": [
    "import matplotlib.pyplot as plt\n",
    "# jupyter notebook의 매직커맨드라해서 주피터노브툭 안에서 그림을 그릴 때 필요로 함.\n",
    "%matplotlib inline\n",
    "print(\"Plot Ready\")"
   ]
  },
  {
   "cell_type": "markdown",
   "metadata": {},
   "source": [
    "### 11.1 Basic plot"
   ]
  },
  {
   "cell_type": "code",
   "execution_count": 149,
   "metadata": {},
   "outputs": [
    {
     "data": {
      "image/png": "[encoded data removed]",
      "text/plain": [
       "<Figure size 640x480 with 1 Axes>"
      ]
     },
     "metadata": {},
     "output_type": "display_data"
    }
   ],
   "source": [
    "# Compute the x and y coordinatese for points on a sine curve\n",
    "x = np.arange(0, 3 * np.pi, 0.1)\n",
    "y = np.sin(x)\n",
    "\n",
    "# Plot the points using matplotlib\n",
    "plt.plot(x, y)\n",
    "plt.show()"
   ]
  },
  {
   "cell_type": "markdown",
   "metadata": {},
   "source": [
    "### 11.2 Plot with Legend"
   ]
  },
  {
   "cell_type": "code",
   "execution_count": 150,
   "metadata": {},
   "outputs": [
    {
     "data": {
      "text/plain": [
       "<matplotlib.legend.Legend at 0x2753da1bfc8>"
      ]
     },
     "execution_count": 150,
     "metadata": {},
     "output_type": "execute_result"
    },
    {
     "data": {
      "image/png": "[encoded data removed]",
      "text/plain": [
       "<Figure size 640x480 with 1 Axes>"
      ]
     },
     "metadata": {},
     "output_type": "display_data"
    }
   ],
   "source": [
    "y_sin = np.sin(x)\n",
    "y_cos = np.cos(x)\n",
    "\n",
    "# plot the points using matplotlib\n",
    "plt.plot(x, y_sin)\n",
    "plt.plot(x, y_cos)\n",
    "plt.xlabel('x axis label')\n",
    "plt.ylabel('y axis label')\n",
    "plt.title('Sine and Cosine')\n",
    "plt.legend(['Sine', 'Cosine'])"
   ]
  },
  {
   "cell_type": "markdown",
   "metadata": {},
   "source": [
    "### 11.3 subplot\n",
    "하나의 그림안에 두 개의 그림을 넣고 싶을 때 "
   ]
  },
  {
   "cell_type": "code",
   "execution_count": 154,
   "metadata": {},
   "outputs": [
    {
     "data": {
      "image/png": "[encoded data removed]",
      "text/plain": [
       "<Figure size 640x480 with 2 Axes>"
      ]
     },
     "metadata": {},
     "output_type": "display_data"
    }
   ],
   "source": [
    "x = np.arange(0, 3 * np.pi, 0.1)\n",
    "y_sin = np.sin(x)\n",
    "y_cos = np.cos(x)\n",
    "\n",
    "# plt.subplot(row, column, index)\n",
    "# Set up a subplot grid that has height 2 and width 1,\n",
    "# and set the first such subplot as active\n",
    "plt.subplot(1, 2, 1)\n",
    "\n",
    "plt.plot(x, y_sin)\n",
    "plt.title('Sine')\n",
    "\n",
    "# Set the second subplot as active, and make the second plot.\n",
    "plt.subplot(1, 2, 2)\n",
    "plt.plot(x, y_cos)\n",
    "plt.title('Cosine')\n",
    "\n",
    "# Show the figure.\n",
    "plt.show()"
   ]
  },
  {
   "cell_type": "code",
   "execution_count": null,
   "metadata": {},
   "outputs": [],
   "source": []
  }
 ],
 "metadata": {
  "kernelspec": {
   "display_name": "Python 3.7.13 ('ml_textbook')",
   "language": "python",
   "name": "python3"
  },
  "language_info": {
   "codemirror_mode": {
    "name": "ipython",
    "version": 3
   },
   "file_extension": ".py",
   "mimetype": "text/x-python",
   "name": "python",
   "nbconvert_exporter": "python",
   "pygments_lexer": "ipython3",
   "version": "3.7.13"
  },
  "orig_nbformat": 4,
  "vscode": {
   "interpreter": {
    "hash": "b95622912514a4d48046bc33430d7e1a9e97561a6ac975d5b3fad9f4baed1512"
   }
  }
 },
 "nbformat": 4,
 "nbformat_minor": 2
}
